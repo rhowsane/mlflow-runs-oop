{
 "cells": [
  {
   "cell_type": "code",
   "execution_count": null,
   "id": "03e0abea",
   "metadata": {},
   "outputs": [],
   "source": [
    "# Databricks notebook source\n",
    "# MAGIC %md This notebook is slightly modified version of `MLflow Training Tutorial` from [MLflow examples](https://github.com/mlflow/mlflow/tree/master/examples/sklearn_elasticnet_wine).\n",
    "# MAGIC\n",
    "# MAGIC It predicts the quality of wine using [sklearn.linear_model.ElasticNet](http://scikit-learn.org/stable/modules/generated/sklearn.linear_model.ElasticNet.html).\n",
    "# MAGIC This is a base code and will be modified further during the `Databricks: Reproducible experiments with MLflow and Delta Lake` tutorial.\n",
    "# MAGIC\n",
    "# MAGIC Attribution\n",
    "# MAGIC * The data set used in this example is from http://archive.ics.uci.edu/ml/datasets/Wine+Quality\n",
    "# MAGIC * P. Cortez, A. Cerdeira, F. Almeida, T. Matos and J. Reis.\n",
    "# MAGIC * Modeling wine preferences by data mining from physicochemical properties. In Decision Support Systems, Elsevier, 47(4):547-553, 2009."
   ]
  },
  {
   "cell_type": "code",
   "execution_count": 1,
   "id": "4bd249a6",
   "metadata": {},
   "outputs": [],
   "source": [
    "import os\n",
    "import warnings\n",
    "import sys\n",
    "\n",
    "import pandas as pd\n",
    "import numpy as np\n",
    "from sklearn.metrics import mean_squared_error, mean_absolute_error, r2_score\n",
    "from sklearn.model_selection import train_test_split\n",
    "from sklearn.linear_model import ElasticNet\n",
    "\n",
    "import mlflow\n",
    "import mlflow.sklearn\n",
    "\n",
    "from sklearn.ensemble import RandomForestRegressor"
   ]
  },
  {
   "cell_type": "code",
   "execution_count": null,
   "id": "62876c3c",
   "metadata": {},
   "outputs": [],
   "source": [
    "class TrainParameter:\n",
    "    \n",
    "    def __init__(self):\n",
    "\n",
    "\n",
    "    def __set__\n",
    "param = TrainParameter()\n",
    "param.alpha = 0.1\n",
    "param.l1_ratio = 0.7\n"
   ]
  },
  {
   "cell_type": "code",
   "execution_count": 3,
   "id": "27401ca2",
   "metadata": {},
   "outputs": [],
   "source": [
    "# Wine Quality Sample\n",
    "def train(alpha=0.1, l1_ratio=0.7, max_depth = 2, n_estimators=100, choice='lf'):\n",
    "\n",
    "\n",
    "    def eval_metrics(actual, pred):\n",
    "        rmse = np.sqrt(mean_squared_error(actual, pred))\n",
    "        mae = mean_absolute_error(actual, pred)\n",
    "        r2 = r2_score(actual, pred)\n",
    "        return rmse, mae, r2\n",
    "\n",
    "\n",
    "    # Read the wine-quality csv file from the URL\n",
    "    csv_url =\\\n",
    "        'http://archive.ics.uci.edu/ml/machine-learning-databases/wine-quality/winequality-red.csv'\n",
    "    try:\n",
    "        data = pd.read_csv(csv_url, sep=';')\n",
    "    except Exception as e:\n",
    "        logger.exception(\n",
    "            \"Unable to download training & test CSV, check your internet connection. Error: %s\", e)\n",
    "\n",
    "    # Split the data into training and test sets. (0.75, 0.25) split.\n",
    "    train, test = train_test_split(data)\n",
    "\n",
    "    # The predicted column is \"quality\" which is a scalar from [3, 9]\n",
    "    train_x = train.drop([\"quality\"], axis=1)\n",
    "    test_x = test.drop([\"quality\"], axis=1)\n",
    "    train_y = train[[\"quality\"]]\n",
    "    test_y = test[[\"quality\"]]\n",
    "\n",
    "\n",
    "    with mlflow.start_run():\n",
    "        # Execute ElasticNet\n",
    "        if choice == 'lr':\n",
    "            model = ElasticNet(alpha=alpha, l1_ratio=l1_ratio, random_state=42)\n",
    "        elif choice == 'rf':\n",
    "            model = RandomForestRegressor(max_depth = max_depth, n_estimators = n_estimators, random_state=42)\n",
    "        else:\n",
    "            raise TypeError('Model choice was not typed correctly for the available development')\n",
    "            \n",
    "        model.fit(train_x, train_y)\n",
    "\n",
    "        # Evaluate Metrics\n",
    "        predicted_qualities = model.predict(test_x)\n",
    "        (rmse, mae, r2) = eval_metrics(test_y, predicted_qualities)\n",
    "        \n",
    "        if choice == 'lr':\n",
    "            mlflow.log_param(\"alpha\", alpha)\n",
    "            mlflow.log_param(\"l1_ratio\", l1_ratio)\n",
    "        elif choice == 'rf':\n",
    "            mlflow.log_param(\"max_depth\", max_depth)\n",
    "            mlflow.log_param(\"n_estimators\", n_estimators)\n",
    "\n",
    "        mlflow.log_metric(\"rmse\", rmse)\n",
    "        mlflow.log_metric(\"mae\", mae)\n",
    "        mlflow.log_metric(\"r2\", r2)\n",
    "\n",
    "        mlflow.sklearn.log_model(model, choice)\n",
    "        \n",
    "        \n",
    "        # Print out metrics\n",
    "        print(\"Elasticnet model (alpha=%f, l1_ratio=%f):\" % (alpha, l1_ratio))\n",
    "        print(\"  RMSE: %s\" % rmse)\n",
    "        print(\"  MAE: %s\" % mae)\n",
    "        print(\"  R2: %s\" % r2)"
   ]
  },
  {
   "cell_type": "code",
   "execution_count": 4,
   "id": "5847bac4",
   "metadata": {},
   "outputs": [
    {
     "ename": "TypeError",
     "evalue": "train() got an unexpected keyword argument 'max_depth'",
     "output_type": "error",
     "traceback": [
      "\u001b[0;31m---------------------------------------------------------------------------\u001b[0m",
      "\u001b[0;31mTypeError\u001b[0m                                 Traceback (most recent call last)",
      "Cell \u001b[0;32mIn[4], line 6\u001b[0m\n\u001b[1;32m      1\u001b[0m \u001b[39m# Start the training\u001b[39;00m\n\u001b[1;32m      2\u001b[0m \u001b[39m# train( alpha=0.1, l1_ratio=0.7, choice='lr')\u001b[39;00m\n\u001b[1;32m      3\u001b[0m \u001b[39m# train(alpha=0.1, l1_ratio=0.9, choice='lr')\u001b[39;00m\n\u001b[1;32m      4\u001b[0m \u001b[39m# train(max_depth = 2, n_estimators = 100, choice= 'rf')\u001b[39;00m\n\u001b[1;32m      5\u001b[0m \u001b[39m# train(max_depth = 2, n_estimators = 50, choice='rf')\u001b[39;00m\n\u001b[0;32m----> 6\u001b[0m train(max_depth \u001b[39m=\u001b[39;49m \u001b[39m10\u001b[39;49m, n_estimators \u001b[39m=\u001b[39;49m \u001b[39m50\u001b[39;49m, choice\u001b[39m=\u001b[39;49m\u001b[39m'\u001b[39;49m\u001b[39mrf\u001b[39;49m\u001b[39m'\u001b[39;49m)\n\u001b[1;32m      7\u001b[0m train(max_depth \u001b[39m=\u001b[39m \u001b[39m10\u001b[39m, n_estimators \u001b[39m=\u001b[39m \u001b[39m30\u001b[39m, choice\u001b[39m=\u001b[39m\u001b[39m'\u001b[39m\u001b[39mrf\u001b[39m\u001b[39m'\u001b[39m)\n",
      "\u001b[0;31mTypeError\u001b[0m: train() got an unexpected keyword argument 'max_depth'"
     ]
    }
   ],
   "source": [
    "# Start the training\n",
    "# train( alpha=0.1, l1_ratio=0.7, choice='lr')\n",
    "# train(alpha=0.1, l1_ratio=0.9, choice='lr')\n",
    "# train(max_depth = 2, n_estimators = 100, choice= 'rf')\n",
    "# train(max_depth = 2, n_estimators = 50, choice='rf')\n",
    "train(max_depth = 10, n_estimators = 50, choice='rf')\n",
    "train(max_depth = 10, n_estimators = 30, choice='rf')"
   ]
  },
  {
   "cell_type": "code",
   "execution_count": null,
   "id": "9e9f9125",
   "metadata": {},
   "outputs": [],
   "source": []
  }
 ],
 "metadata": {
  "kernelspec": {
   "display_name": "Python 3.10.8 ('env_mlops')",
   "language": "python",
   "name": "python3"
  },
  "language_info": {
   "codemirror_mode": {
    "name": "ipython",
    "version": 3
   },
   "file_extension": ".py",
   "mimetype": "text/x-python",
   "name": "python",
   "nbconvert_exporter": "python",
   "pygments_lexer": "ipython3",
   "version": "3.10.8"
  },
  "vscode": {
   "interpreter": {
    "hash": "798f276380a9e0dd2c6a63085ad4446fbb1e5fa6c677840ec81820dbf4179a08"
   }
  }
 },
 "nbformat": 4,
 "nbformat_minor": 5
}
